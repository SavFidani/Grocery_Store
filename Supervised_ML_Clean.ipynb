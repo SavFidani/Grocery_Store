{
 "cells": [
  {
   "cell_type": "code",
   "execution_count": 154,
   "id": "55d35089",
   "metadata": {},
   "outputs": [],
   "source": [
    "import pandas as pd\n",
    "import numpy as np\n",
    "import matplotlib as mpl\n",
    "import matplotlib.pyplot as plt\n",
    "%matplotlib inline\n",
    "import seaborn as sns\n",
    "import missingno as msno\n",
    "import psycopg2\n",
    "import getpass"
   ]
  },
  {
   "cell_type": "code",
   "execution_count": 155,
   "id": "fc6ae900",
   "metadata": {},
   "outputs": [
    {
     "name": "stdout",
     "output_type": "stream",
     "text": [
      "DB Password ········\n"
     ]
    }
   ],
   "source": [
    "# Request user for password to access database\n",
    "db_password = getpass.getpass(prompt='DB Password ')\n",
    "\n",
    "# Create SQL engine with connection parameters to connect to AWS RDS Postgres instance\n",
    "engine = psycopg2.connect(\n",
    "    database=\"Stores\",\n",
    "    user=\"postgres\",\n",
    "    password=db_password,\n",
    "    host=\"stores-db.ck6vux0ulqkn.us-east-2.rds.amazonaws.com\",\n",
    "    port='5432'\n",
    ")"
   ]
  },
  {
   "cell_type": "code",
   "execution_count": 156,
   "id": "94385f36",
   "metadata": {},
   "outputs": [
    {
     "data": {
      "text/html": [
       "<div>\n",
       "<style scoped>\n",
       "    .dataframe tbody tr th:only-of-type {\n",
       "        vertical-align: middle;\n",
       "    }\n",
       "\n",
       "    .dataframe tbody tr th {\n",
       "        vertical-align: top;\n",
       "    }\n",
       "\n",
       "    .dataframe thead th {\n",
       "        text-align: right;\n",
       "    }\n",
       "</style>\n",
       "<table border=\"1\" class=\"dataframe\">\n",
       "  <thead>\n",
       "    <tr style=\"text-align: right;\">\n",
       "      <th></th>\n",
       "      <th>store_id</th>\n",
       "      <th>store_area</th>\n",
       "      <th>items_available</th>\n",
       "      <th>daily_customer_count</th>\n",
       "      <th>store_sales</th>\n",
       "    </tr>\n",
       "  </thead>\n",
       "  <tbody>\n",
       "    <tr>\n",
       "      <th>0</th>\n",
       "      <td>1</td>\n",
       "      <td>1659</td>\n",
       "      <td>1961</td>\n",
       "      <td>530</td>\n",
       "      <td>66490</td>\n",
       "    </tr>\n",
       "  </tbody>\n",
       "</table>\n",
       "</div>"
      ],
      "text/plain": [
       "   store_id  store_area  items_available  daily_customer_count  store_sales\n",
       "0         1        1659             1961                   530        66490"
      ]
     },
     "execution_count": 156,
     "metadata": {},
     "output_type": "execute_result"
    }
   ],
   "source": [
    "# Show sample of the imported data\n",
    "train = pd.read_sql('SELECT * FROM store_table', engine)\n",
    "train.head(1)"
   ]
  },
  {
   "cell_type": "code",
   "execution_count": 157,
   "id": "cd06d5e3",
   "metadata": {},
   "outputs": [
    {
     "data": {
      "text/html": [
       "<div>\n",
       "<style scoped>\n",
       "    .dataframe tbody tr th:only-of-type {\n",
       "        vertical-align: middle;\n",
       "    }\n",
       "\n",
       "    .dataframe tbody tr th {\n",
       "        vertical-align: top;\n",
       "    }\n",
       "\n",
       "    .dataframe thead th {\n",
       "        text-align: right;\n",
       "    }\n",
       "</style>\n",
       "<table border=\"1\" class=\"dataframe\">\n",
       "  <thead>\n",
       "    <tr style=\"text-align: right;\">\n",
       "      <th></th>\n",
       "      <th>store_id</th>\n",
       "      <th>store_area</th>\n",
       "      <th>items_available</th>\n",
       "      <th>daily_customer_count</th>\n",
       "      <th>store_sales</th>\n",
       "    </tr>\n",
       "  </thead>\n",
       "  <tbody>\n",
       "    <tr>\n",
       "      <th>0</th>\n",
       "      <td>1</td>\n",
       "      <td>1659</td>\n",
       "      <td>1961</td>\n",
       "      <td>530</td>\n",
       "      <td>66490</td>\n",
       "    </tr>\n",
       "    <tr>\n",
       "      <th>1</th>\n",
       "      <td>2</td>\n",
       "      <td>1461</td>\n",
       "      <td>1752</td>\n",
       "      <td>210</td>\n",
       "      <td>39820</td>\n",
       "    </tr>\n",
       "    <tr>\n",
       "      <th>2</th>\n",
       "      <td>3</td>\n",
       "      <td>1340</td>\n",
       "      <td>1609</td>\n",
       "      <td>720</td>\n",
       "      <td>54010</td>\n",
       "    </tr>\n",
       "    <tr>\n",
       "      <th>3</th>\n",
       "      <td>4</td>\n",
       "      <td>1451</td>\n",
       "      <td>1748</td>\n",
       "      <td>620</td>\n",
       "      <td>53730</td>\n",
       "    </tr>\n",
       "    <tr>\n",
       "      <th>4</th>\n",
       "      <td>5</td>\n",
       "      <td>1770</td>\n",
       "      <td>2111</td>\n",
       "      <td>450</td>\n",
       "      <td>46620</td>\n",
       "    </tr>\n",
       "    <tr>\n",
       "      <th>...</th>\n",
       "      <td>...</td>\n",
       "      <td>...</td>\n",
       "      <td>...</td>\n",
       "      <td>...</td>\n",
       "      <td>...</td>\n",
       "    </tr>\n",
       "    <tr>\n",
       "      <th>891</th>\n",
       "      <td>892</td>\n",
       "      <td>1582</td>\n",
       "      <td>1910</td>\n",
       "      <td>1080</td>\n",
       "      <td>66390</td>\n",
       "    </tr>\n",
       "    <tr>\n",
       "      <th>892</th>\n",
       "      <td>893</td>\n",
       "      <td>1387</td>\n",
       "      <td>1663</td>\n",
       "      <td>850</td>\n",
       "      <td>82080</td>\n",
       "    </tr>\n",
       "    <tr>\n",
       "      <th>893</th>\n",
       "      <td>894</td>\n",
       "      <td>1200</td>\n",
       "      <td>1436</td>\n",
       "      <td>1060</td>\n",
       "      <td>76440</td>\n",
       "    </tr>\n",
       "    <tr>\n",
       "      <th>894</th>\n",
       "      <td>895</td>\n",
       "      <td>1299</td>\n",
       "      <td>1560</td>\n",
       "      <td>770</td>\n",
       "      <td>96610</td>\n",
       "    </tr>\n",
       "    <tr>\n",
       "      <th>895</th>\n",
       "      <td>896</td>\n",
       "      <td>1174</td>\n",
       "      <td>1429</td>\n",
       "      <td>1110</td>\n",
       "      <td>54340</td>\n",
       "    </tr>\n",
       "  </tbody>\n",
       "</table>\n",
       "<p>896 rows × 5 columns</p>\n",
       "</div>"
      ],
      "text/plain": [
       "     store_id  store_area  items_available  daily_customer_count  store_sales\n",
       "0           1        1659             1961                   530        66490\n",
       "1           2        1461             1752                   210        39820\n",
       "2           3        1340             1609                   720        54010\n",
       "3           4        1451             1748                   620        53730\n",
       "4           5        1770             2111                   450        46620\n",
       "..        ...         ...              ...                   ...          ...\n",
       "891       892        1582             1910                  1080        66390\n",
       "892       893        1387             1663                   850        82080\n",
       "893       894        1200             1436                  1060        76440\n",
       "894       895        1299             1560                   770        96610\n",
       "895       896        1174             1429                  1110        54340\n",
       "\n",
       "[896 rows x 5 columns]"
      ]
     },
     "execution_count": 157,
     "metadata": {},
     "output_type": "execute_result"
    }
   ],
   "source": [
    "train"
   ]
  },
  {
   "cell_type": "code",
   "execution_count": 158,
   "id": "c0871df5",
   "metadata": {},
   "outputs": [],
   "source": [
    "train.drop(train.columns[[0]], axis = 1, inplace = True)"
   ]
  },
  {
   "cell_type": "code",
   "execution_count": 159,
   "id": "d2e6b3fb",
   "metadata": {},
   "outputs": [
    {
     "name": "stdout",
     "output_type": "stream",
     "text": [
      "<class 'pandas.core.frame.DataFrame'>\n",
      "RangeIndex: 896 entries, 0 to 895\n",
      "Data columns (total 4 columns):\n",
      " #   Column                Non-Null Count  Dtype\n",
      "---  ------                --------------  -----\n",
      " 0   store_area            896 non-null    int64\n",
      " 1   items_available       896 non-null    int64\n",
      " 2   daily_customer_count  896 non-null    int64\n",
      " 3   store_sales           896 non-null    int64\n",
      "dtypes: int64(4)\n",
      "memory usage: 28.1 KB\n"
     ]
    }
   ],
   "source": [
    "train.info()"
   ]
  },
  {
   "cell_type": "code",
   "execution_count": 160,
   "id": "e032d586",
   "metadata": {},
   "outputs": [
    {
     "data": {
      "text/html": [
       "<div>\n",
       "<style scoped>\n",
       "    .dataframe tbody tr th:only-of-type {\n",
       "        vertical-align: middle;\n",
       "    }\n",
       "\n",
       "    .dataframe tbody tr th {\n",
       "        vertical-align: top;\n",
       "    }\n",
       "\n",
       "    .dataframe thead th {\n",
       "        text-align: right;\n",
       "    }\n",
       "</style>\n",
       "<table border=\"1\" class=\"dataframe\">\n",
       "  <thead>\n",
       "    <tr style=\"text-align: right;\">\n",
       "      <th></th>\n",
       "      <th>store_area</th>\n",
       "      <th>items_available</th>\n",
       "      <th>daily_customer_count</th>\n",
       "      <th>store_sales</th>\n",
       "    </tr>\n",
       "  </thead>\n",
       "  <tbody>\n",
       "    <tr>\n",
       "      <th>count</th>\n",
       "      <td>896.000000</td>\n",
       "      <td>896.000000</td>\n",
       "      <td>896.000000</td>\n",
       "      <td>896.000000</td>\n",
       "    </tr>\n",
       "    <tr>\n",
       "      <th>mean</th>\n",
       "      <td>1485.409598</td>\n",
       "      <td>1782.035714</td>\n",
       "      <td>786.350446</td>\n",
       "      <td>59351.305804</td>\n",
       "    </tr>\n",
       "    <tr>\n",
       "      <th>std</th>\n",
       "      <td>250.237011</td>\n",
       "      <td>299.872053</td>\n",
       "      <td>265.389281</td>\n",
       "      <td>17190.741895</td>\n",
       "    </tr>\n",
       "    <tr>\n",
       "      <th>min</th>\n",
       "      <td>775.000000</td>\n",
       "      <td>932.000000</td>\n",
       "      <td>10.000000</td>\n",
       "      <td>14920.000000</td>\n",
       "    </tr>\n",
       "    <tr>\n",
       "      <th>25%</th>\n",
       "      <td>1316.750000</td>\n",
       "      <td>1575.500000</td>\n",
       "      <td>600.000000</td>\n",
       "      <td>46530.000000</td>\n",
       "    </tr>\n",
       "    <tr>\n",
       "      <th>50%</th>\n",
       "      <td>1477.000000</td>\n",
       "      <td>1773.500000</td>\n",
       "      <td>780.000000</td>\n",
       "      <td>58605.000000</td>\n",
       "    </tr>\n",
       "    <tr>\n",
       "      <th>75%</th>\n",
       "      <td>1653.500000</td>\n",
       "      <td>1982.750000</td>\n",
       "      <td>970.000000</td>\n",
       "      <td>71872.500000</td>\n",
       "    </tr>\n",
       "    <tr>\n",
       "      <th>max</th>\n",
       "      <td>2229.000000</td>\n",
       "      <td>2667.000000</td>\n",
       "      <td>1560.000000</td>\n",
       "      <td>116320.000000</td>\n",
       "    </tr>\n",
       "  </tbody>\n",
       "</table>\n",
       "</div>"
      ],
      "text/plain": [
       "        store_area  items_available  daily_customer_count    store_sales\n",
       "count   896.000000       896.000000            896.000000     896.000000\n",
       "mean   1485.409598      1782.035714            786.350446   59351.305804\n",
       "std     250.237011       299.872053            265.389281   17190.741895\n",
       "min     775.000000       932.000000             10.000000   14920.000000\n",
       "25%    1316.750000      1575.500000            600.000000   46530.000000\n",
       "50%    1477.000000      1773.500000            780.000000   58605.000000\n",
       "75%    1653.500000      1982.750000            970.000000   71872.500000\n",
       "max    2229.000000      2667.000000           1560.000000  116320.000000"
      ]
     },
     "execution_count": 160,
     "metadata": {},
     "output_type": "execute_result"
    }
   ],
   "source": [
    "train.describe()"
   ]
  },
  {
   "cell_type": "code",
   "execution_count": 161,
   "id": "e3b115f3",
   "metadata": {},
   "outputs": [
    {
     "data": {
      "text/plain": [
       "store_area              0\n",
       "items_available         0\n",
       "daily_customer_count    0\n",
       "store_sales             0\n",
       "dtype: int64"
      ]
     },
     "execution_count": 161,
     "metadata": {},
     "output_type": "execute_result"
    }
   ],
   "source": [
    "train.isnull().sum()"
   ]
  },
  {
   "cell_type": "code",
   "execution_count": 162,
   "id": "e9efdef0",
   "metadata": {},
   "outputs": [
    {
     "data": {
      "text/plain": [
       "0"
      ]
     },
     "execution_count": 162,
     "metadata": {},
     "output_type": "execute_result"
    }
   ],
   "source": [
    "train.duplicated().sum()"
   ]
  },
  {
   "cell_type": "code",
   "execution_count": 163,
   "id": "7ba07f14",
   "metadata": {},
   "outputs": [
    {
     "name": "stdout",
     "output_type": "stream",
     "text": [
      "Feature 'store_area' has '583' unique values\n",
      "Feature 'items_available' has '616' unique values\n",
      "Feature 'daily_customer_count' has '130' unique values\n",
      "Feature 'store_sales' has '816' unique values\n"
     ]
    }
   ],
   "source": [
    "for column_name in train.columns:\n",
    "    unique_values = len(train[column_name].unique())\n",
    "    print(\"Feature '{column_name}' has '{unique_values}' unique values\".format(column_name = column_name,\n",
    "                                                                                         unique_values=unique_values))"
   ]
  },
  {
   "cell_type": "code",
   "execution_count": 170,
   "id": "c17fa184",
   "metadata": {},
   "outputs": [
    {
     "data": {
      "text/html": [
       "<div>\n",
       "<style scoped>\n",
       "    .dataframe tbody tr th:only-of-type {\n",
       "        vertical-align: middle;\n",
       "    }\n",
       "\n",
       "    .dataframe tbody tr th {\n",
       "        vertical-align: top;\n",
       "    }\n",
       "\n",
       "    .dataframe thead th {\n",
       "        text-align: right;\n",
       "    }\n",
       "</style>\n",
       "<table border=\"1\" class=\"dataframe\">\n",
       "  <thead>\n",
       "    <tr style=\"text-align: right;\">\n",
       "      <th></th>\n",
       "      <th>store_area</th>\n",
       "      <th>items_available</th>\n",
       "      <th>daily_customer_count</th>\n",
       "      <th>store_sales</th>\n",
       "    </tr>\n",
       "  </thead>\n",
       "  <tbody>\n",
       "    <tr>\n",
       "      <th>0</th>\n",
       "      <td>1659</td>\n",
       "      <td>1961</td>\n",
       "      <td>530</td>\n",
       "      <td>66490</td>\n",
       "    </tr>\n",
       "    <tr>\n",
       "      <th>1</th>\n",
       "      <td>1461</td>\n",
       "      <td>1752</td>\n",
       "      <td>210</td>\n",
       "      <td>39820</td>\n",
       "    </tr>\n",
       "    <tr>\n",
       "      <th>2</th>\n",
       "      <td>1340</td>\n",
       "      <td>1609</td>\n",
       "      <td>720</td>\n",
       "      <td>54010</td>\n",
       "    </tr>\n",
       "    <tr>\n",
       "      <th>3</th>\n",
       "      <td>1451</td>\n",
       "      <td>1748</td>\n",
       "      <td>620</td>\n",
       "      <td>53730</td>\n",
       "    </tr>\n",
       "    <tr>\n",
       "      <th>4</th>\n",
       "      <td>1770</td>\n",
       "      <td>2111</td>\n",
       "      <td>450</td>\n",
       "      <td>46620</td>\n",
       "    </tr>\n",
       "  </tbody>\n",
       "</table>\n",
       "</div>"
      ],
      "text/plain": [
       "   store_area  items_available  daily_customer_count  store_sales\n",
       "0        1659             1961                   530        66490\n",
       "1        1461             1752                   210        39820\n",
       "2        1340             1609                   720        54010\n",
       "3        1451             1748                   620        53730\n",
       "4        1770             2111                   450        46620"
      ]
     },
     "execution_count": 170,
     "metadata": {},
     "output_type": "execute_result"
    }
   ],
   "source": [
    "train1=train\n",
    "train2=train\n",
    "train3=train\n",
    "train.head()"
   ]
  },
  {
   "cell_type": "code",
   "execution_count": 171,
   "id": "30f031ab",
   "metadata": {},
   "outputs": [],
   "source": [
    "train4=train"
   ]
  },
  {
   "cell_type": "code",
   "execution_count": 172,
   "id": "79d98da7",
   "metadata": {},
   "outputs": [],
   "source": [
    "train1=train1.drop('daily_customer_count',axis=1)\n",
    "train2=train2.drop('daily_customer_count',axis=1)\n",
    "train2=train2.drop('items_available',axis=1)\n",
    "train3=train3.drop('daily_customer_count',axis=1)\n",
    "train3=train3.drop('store_area',axis=1)\n",
    "train4=train4.drop('store_area',axis=1)\n",
    "train4=train4.drop('items_available',axis=1)"
   ]
  },
  {
   "cell_type": "code",
   "execution_count": 214,
   "id": "d2d90d2d",
   "metadata": {},
   "outputs": [
    {
     "data": {
      "text/html": [
       "<div>\n",
       "<style scoped>\n",
       "    .dataframe tbody tr th:only-of-type {\n",
       "        vertical-align: middle;\n",
       "    }\n",
       "\n",
       "    .dataframe tbody tr th {\n",
       "        vertical-align: top;\n",
       "    }\n",
       "\n",
       "    .dataframe thead th {\n",
       "        text-align: right;\n",
       "    }\n",
       "</style>\n",
       "<table border=\"1\" class=\"dataframe\">\n",
       "  <thead>\n",
       "    <tr style=\"text-align: right;\">\n",
       "      <th></th>\n",
       "      <th>daily_customer_count</th>\n",
       "      <th>store_sales</th>\n",
       "      <th>Out</th>\n",
       "    </tr>\n",
       "  </thead>\n",
       "  <tbody>\n",
       "    <tr>\n",
       "      <th>0</th>\n",
       "      <td>530</td>\n",
       "      <td>66490</td>\n",
       "      <td>1</td>\n",
       "    </tr>\n",
       "    <tr>\n",
       "      <th>1</th>\n",
       "      <td>210</td>\n",
       "      <td>39820</td>\n",
       "      <td>-1</td>\n",
       "    </tr>\n",
       "    <tr>\n",
       "      <th>2</th>\n",
       "      <td>720</td>\n",
       "      <td>54010</td>\n",
       "      <td>1</td>\n",
       "    </tr>\n",
       "    <tr>\n",
       "      <th>3</th>\n",
       "      <td>620</td>\n",
       "      <td>53730</td>\n",
       "      <td>1</td>\n",
       "    </tr>\n",
       "    <tr>\n",
       "      <th>4</th>\n",
       "      <td>450</td>\n",
       "      <td>46620</td>\n",
       "      <td>1</td>\n",
       "    </tr>\n",
       "  </tbody>\n",
       "</table>\n",
       "</div>"
      ],
      "text/plain": [
       "   daily_customer_count  store_sales  Out\n",
       "0                   530        66490    1\n",
       "1                   210        39820   -1\n",
       "2                   720        54010    1\n",
       "3                   620        53730    1\n",
       "4                   450        46620    1"
      ]
     },
     "execution_count": 214,
     "metadata": {},
     "output_type": "execute_result"
    }
   ],
   "source": [
    "train4.head()"
   ]
  },
  {
   "cell_type": "code",
   "execution_count": 177,
   "id": "50ec3379",
   "metadata": {},
   "outputs": [],
   "source": [
    "from sklearn.neighbors import LocalOutlierFactor"
   ]
  },
  {
   "cell_type": "code",
   "execution_count": 178,
   "id": "03c0b58d",
   "metadata": {},
   "outputs": [],
   "source": [
    "clf = LocalOutlierFactor(n_neighbors=5, contamination='auto')\n",
    "y_pred = clf.fit_predict(train)\n",
    "y_pred1 = clf.fit_predict(train1) \n",
    "y_pred2 = clf.fit_predict(train2) \n",
    "y_pred3 = clf.fit_predict(train3)\n",
    "y_pred4 = clf.fit_predict(train4)"
   ]
  },
  {
   "cell_type": "code",
   "execution_count": 179,
   "id": "f8ca581b",
   "metadata": {},
   "outputs": [],
   "source": [
    "train['Out']=y_pred\n",
    "train1['Out']=y_pred1\n",
    "train2['Out']=y_pred2\n",
    "train3['Out']=y_pred3\n",
    "train4['Out']=y_pred4"
   ]
  },
  {
   "cell_type": "code",
   "execution_count": 180,
   "id": "591b25b1",
   "metadata": {},
   "outputs": [],
   "source": [
    "Out=train[train['Out']!=1]\n",
    "Out1=train1[train1['Out']!=1]\n",
    "Out2=train2[train2['Out']!=1]\n",
    "Out3=train3[train3['Out']!=1]\n",
    "Out4=train4[train4['Out']!=1]"
   ]
  },
  {
   "cell_type": "code",
   "execution_count": 185,
   "id": "2e1010a0",
   "metadata": {},
   "outputs": [
    {
     "data": {
      "text/plain": [
       "(47, 3)"
      ]
     },
     "execution_count": 185,
     "metadata": {},
     "output_type": "execute_result"
    }
   ],
   "source": [
    "Out4.shape"
   ]
  },
  {
   "cell_type": "code",
   "execution_count": 186,
   "id": "d6975857",
   "metadata": {},
   "outputs": [],
   "source": [
    "train5=train[train['Out']==1]\n",
    "train6=train1[train1['Out']==1]\n",
    "train7=train2[train2['Out']==1]\n",
    "train8=train3[train3['Out']==1]\n",
    "train9=train4[train4['Out']==1]"
   ]
  },
  {
   "cell_type": "code",
   "execution_count": 208,
   "id": "87edbf87",
   "metadata": {},
   "outputs": [
    {
     "data": {
      "text/html": [
       "<div>\n",
       "<style scoped>\n",
       "    .dataframe tbody tr th:only-of-type {\n",
       "        vertical-align: middle;\n",
       "    }\n",
       "\n",
       "    .dataframe tbody tr th {\n",
       "        vertical-align: top;\n",
       "    }\n",
       "\n",
       "    .dataframe thead th {\n",
       "        text-align: right;\n",
       "    }\n",
       "</style>\n",
       "<table border=\"1\" class=\"dataframe\">\n",
       "  <thead>\n",
       "    <tr style=\"text-align: right;\">\n",
       "      <th></th>\n",
       "      <th>store_area</th>\n",
       "      <th>items_available</th>\n",
       "      <th>daily_customer_count</th>\n",
       "      <th>store_sales</th>\n",
       "      <th>Out</th>\n",
       "    </tr>\n",
       "  </thead>\n",
       "  <tbody>\n",
       "    <tr>\n",
       "      <th>0</th>\n",
       "      <td>1659</td>\n",
       "      <td>1961</td>\n",
       "      <td>530</td>\n",
       "      <td>66490</td>\n",
       "      <td>1</td>\n",
       "    </tr>\n",
       "    <tr>\n",
       "      <th>1</th>\n",
       "      <td>1461</td>\n",
       "      <td>1752</td>\n",
       "      <td>210</td>\n",
       "      <td>39820</td>\n",
       "      <td>1</td>\n",
       "    </tr>\n",
       "    <tr>\n",
       "      <th>2</th>\n",
       "      <td>1340</td>\n",
       "      <td>1609</td>\n",
       "      <td>720</td>\n",
       "      <td>54010</td>\n",
       "      <td>1</td>\n",
       "    </tr>\n",
       "    <tr>\n",
       "      <th>3</th>\n",
       "      <td>1451</td>\n",
       "      <td>1748</td>\n",
       "      <td>620</td>\n",
       "      <td>53730</td>\n",
       "      <td>1</td>\n",
       "    </tr>\n",
       "    <tr>\n",
       "      <th>4</th>\n",
       "      <td>1770</td>\n",
       "      <td>2111</td>\n",
       "      <td>450</td>\n",
       "      <td>46620</td>\n",
       "      <td>1</td>\n",
       "    </tr>\n",
       "    <tr>\n",
       "      <th>...</th>\n",
       "      <td>...</td>\n",
       "      <td>...</td>\n",
       "      <td>...</td>\n",
       "      <td>...</td>\n",
       "      <td>...</td>\n",
       "    </tr>\n",
       "    <tr>\n",
       "      <th>891</th>\n",
       "      <td>1582</td>\n",
       "      <td>1910</td>\n",
       "      <td>1080</td>\n",
       "      <td>66390</td>\n",
       "      <td>1</td>\n",
       "    </tr>\n",
       "    <tr>\n",
       "      <th>892</th>\n",
       "      <td>1387</td>\n",
       "      <td>1663</td>\n",
       "      <td>850</td>\n",
       "      <td>82080</td>\n",
       "      <td>1</td>\n",
       "    </tr>\n",
       "    <tr>\n",
       "      <th>893</th>\n",
       "      <td>1200</td>\n",
       "      <td>1436</td>\n",
       "      <td>1060</td>\n",
       "      <td>76440</td>\n",
       "      <td>1</td>\n",
       "    </tr>\n",
       "    <tr>\n",
       "      <th>894</th>\n",
       "      <td>1299</td>\n",
       "      <td>1560</td>\n",
       "      <td>770</td>\n",
       "      <td>96610</td>\n",
       "      <td>1</td>\n",
       "    </tr>\n",
       "    <tr>\n",
       "      <th>895</th>\n",
       "      <td>1174</td>\n",
       "      <td>1429</td>\n",
       "      <td>1110</td>\n",
       "      <td>54340</td>\n",
       "      <td>1</td>\n",
       "    </tr>\n",
       "  </tbody>\n",
       "</table>\n",
       "<p>873 rows × 5 columns</p>\n",
       "</div>"
      ],
      "text/plain": [
       "     store_area  items_available  daily_customer_count  store_sales  Out\n",
       "0          1659             1961                   530        66490    1\n",
       "1          1461             1752                   210        39820    1\n",
       "2          1340             1609                   720        54010    1\n",
       "3          1451             1748                   620        53730    1\n",
       "4          1770             2111                   450        46620    1\n",
       "..          ...              ...                   ...          ...  ...\n",
       "891        1582             1910                  1080        66390    1\n",
       "892        1387             1663                   850        82080    1\n",
       "893        1200             1436                  1060        76440    1\n",
       "894        1299             1560                   770        96610    1\n",
       "895        1174             1429                  1110        54340    1\n",
       "\n",
       "[873 rows x 5 columns]"
      ]
     },
     "execution_count": 208,
     "metadata": {},
     "output_type": "execute_result"
    }
   ],
   "source": [
    "train5"
   ]
  },
  {
   "cell_type": "code",
   "execution_count": 195,
   "id": "44c6ac75",
   "metadata": {},
   "outputs": [],
   "source": [
    "from sklearn.model_selection import train_test_split\n",
    "from sklearn.linear_model import LinearRegression\n",
    "from sklearn.metrics import mean_absolute_error, mean_squared_error\n",
    "from sklearn.ensemble import RandomForestRegressor\n",
    "import xgboost as xgb\n",
    "from sklearn.ensemble import RandomForestRegressor"
   ]
  },
  {
   "cell_type": "code",
   "execution_count": 196,
   "id": "ffc5fae1",
   "metadata": {},
   "outputs": [],
   "source": [
    "y=train5['store_sales']\n",
    "X=train5.drop(['store_sales','Out'],axis=1)\n",
    "y1=train6['store_sales']\n",
    "X1=train6.drop(['store_sales','Out'],axis=1)\n",
    "y2=train7['store_sales']\n",
    "X2=train7.drop(['store_sales','Out'],axis=1)\n",
    "y3=train8['store_sales']\n",
    "X3=train8.drop(['store_sales','Out'],axis=1)\n",
    "y4=train9['store_sales']\n",
    "X4=train9.drop(['store_sales','Out'],axis=1)"
   ]
  },
  {
   "cell_type": "code",
   "execution_count": 197,
   "id": "3a6d0cd6",
   "metadata": {},
   "outputs": [],
   "source": [
    "X_train, X_test, y_train, y_test=train_test_split(X,y,test_size=0.2,random_state=42)\n",
    "X_train1, X_test1, y_train1, y_test1=train_test_split(X1,y1,test_size=0.2,random_state=42)\n",
    "X_train2, X_test2, y_train2, y_test2=train_test_split(X2,y2,test_size=0.2,random_state=42)\n",
    "X_train3, X_test3, y_train3, y_test3=train_test_split(X3,y3,test_size=0.2,random_state=42)\n",
    "X_train4, X_test4, y_train4, y_test4=train_test_split(X4,y4,test_size=0.2,random_state=42)"
   ]
  },
  {
   "cell_type": "code",
   "execution_count": 203,
   "id": "549a8f56",
   "metadata": {},
   "outputs": [
    {
     "name": "stdout",
     "output_type": "stream",
     "text": [
      "model: LinearRegression()\n",
      "MAPE: 26.52514754089043\n",
      "------------------------------ \n",
      "\n",
      "model: RandomForestRegressor()\n",
      "MAPE: 29.13029113729928\n",
      "------------------------------ \n",
      "\n",
      "model: XGBRegressor(base_score=0.5, booster='gbtree', colsample_bylevel=1,\n",
      "             colsample_bynode=1, colsample_bytree=1, enable_categorical=False,\n",
      "             gamma=0, gpu_id=-1, importance_type=None,\n",
      "             interaction_constraints='', learning_rate=0.300000012,\n",
      "             max_delta_step=0, max_depth=6, min_child_weight=1, missing=nan,\n",
      "             monotone_constraints='()', n_estimators=100, n_jobs=8,\n",
      "             num_parallel_tree=1, predictor='auto', random_state=0, reg_alpha=0,\n",
      "             reg_lambda=1, scale_pos_weight=1, subsample=1, tree_method='exact',\n",
      "             validate_parameters=1, verbosity=None)\n",
      "MAPE: 30.811857416512677\n",
      "------------------------------ \n",
      "\n"
     ]
    }
   ],
   "source": [
    "models = [LinearRegression(),RandomForestRegressor(),xgb.XGBRegressor()]\n",
    "scores = dict()\n",
    "\n",
    "for m in models:\n",
    "    m.fit(X_train, y_train)\n",
    "    y_pred = m.predict(X_test)\n",
    "    \n",
    "\n",
    "    print(f'model: {str(m)}')\n",
    "    print(f'MAPE: {np.mean(np.abs((y_test - y_pred) / y_test)) * 100}')\n",
    "    print('-'*30, '\\n')\n",
    "    "
   ]
  },
  {
   "cell_type": "code",
   "execution_count": 204,
   "id": "1743329a",
   "metadata": {},
   "outputs": [
    {
     "name": "stdout",
     "output_type": "stream",
     "text": [
      "model: LinearRegression()\n",
      "MAPE: 28.2873364544741\n",
      "------------------------------ \n",
      "\n",
      "model: RandomForestRegressor()\n",
      "MAPE: 30.803879040144842\n",
      "------------------------------ \n",
      "\n",
      "model: XGBRegressor(base_score=0.5, booster='gbtree', colsample_bylevel=1,\n",
      "             colsample_bynode=1, colsample_bytree=1, enable_categorical=False,\n",
      "             gamma=0, gpu_id=-1, importance_type=None,\n",
      "             interaction_constraints='', learning_rate=0.300000012,\n",
      "             max_delta_step=0, max_depth=6, min_child_weight=1, missing=nan,\n",
      "             monotone_constraints='()', n_estimators=100, n_jobs=8,\n",
      "             num_parallel_tree=1, predictor='auto', random_state=0, reg_alpha=0,\n",
      "             reg_lambda=1, scale_pos_weight=1, subsample=1, tree_method='exact',\n",
      "             validate_parameters=1, verbosity=None)\n",
      "MAPE: 32.00037158712647\n",
      "------------------------------ \n",
      "\n"
     ]
    }
   ],
   "source": [
    "for m in models:\n",
    "    m.fit(X_train1, y_train1)\n",
    "    y_pred1 = m.predict(X_test1)\n",
    "    \n",
    "\n",
    "    print(f'model: {str(m)}')\n",
    "    print(f'MAPE: {np.mean(np.abs((y_test1 - y_pred1) / y_test1)) * 100}')\n",
    "    print('-'*30, '\\n')"
   ]
  },
  {
   "cell_type": "code",
   "execution_count": 205,
   "id": "3f5c0af2",
   "metadata": {},
   "outputs": [
    {
     "name": "stdout",
     "output_type": "stream",
     "text": [
      "model: LinearRegression()\n",
      "MAPE: 27.449477906823578\n",
      "------------------------------ \n",
      "\n",
      "model: RandomForestRegressor()\n",
      "MAPE: 33.036547683592744\n",
      "------------------------------ \n",
      "\n",
      "model: XGBRegressor(base_score=0.5, booster='gbtree', colsample_bylevel=1,\n",
      "             colsample_bynode=1, colsample_bytree=1, enable_categorical=False,\n",
      "             gamma=0, gpu_id=-1, importance_type=None,\n",
      "             interaction_constraints='', learning_rate=0.300000012,\n",
      "             max_delta_step=0, max_depth=6, min_child_weight=1, missing=nan,\n",
      "             monotone_constraints='()', n_estimators=100, n_jobs=8,\n",
      "             num_parallel_tree=1, predictor='auto', random_state=0, reg_alpha=0,\n",
      "             reg_lambda=1, scale_pos_weight=1, subsample=1, tree_method='exact',\n",
      "             validate_parameters=1, verbosity=None)\n",
      "MAPE: 34.24702931942542\n",
      "------------------------------ \n",
      "\n"
     ]
    }
   ],
   "source": [
    "for m in models:\n",
    "    m.fit(X_train2, y_train2)\n",
    "    y_pred2 = m.predict(X_test2)\n",
    "    \n",
    "\n",
    "    print(f'model: {str(m)}')\n",
    "    print(f'MAPE: {np.mean(np.abs((y_test2 - y_pred2) / y_test2)) * 100}')\n",
    "    print('-'*30, '\\n')"
   ]
  },
  {
   "cell_type": "code",
   "execution_count": 206,
   "id": "677a1ba8",
   "metadata": {},
   "outputs": [
    {
     "name": "stdout",
     "output_type": "stream",
     "text": [
      "model: LinearRegression()\n",
      "MAPE: 25.431670451961804\n",
      "------------------------------ \n",
      "\n",
      "model: RandomForestRegressor()\n",
      "MAPE: 28.96170823297446\n",
      "------------------------------ \n",
      "\n",
      "model: XGBRegressor(base_score=0.5, booster='gbtree', colsample_bylevel=1,\n",
      "             colsample_bynode=1, colsample_bytree=1, enable_categorical=False,\n",
      "             gamma=0, gpu_id=-1, importance_type=None,\n",
      "             interaction_constraints='', learning_rate=0.300000012,\n",
      "             max_delta_step=0, max_depth=6, min_child_weight=1, missing=nan,\n",
      "             monotone_constraints='()', n_estimators=100, n_jobs=8,\n",
      "             num_parallel_tree=1, predictor='auto', random_state=0, reg_alpha=0,\n",
      "             reg_lambda=1, scale_pos_weight=1, subsample=1, tree_method='exact',\n",
      "             validate_parameters=1, verbosity=None)\n",
      "MAPE: 28.811828492976016\n",
      "------------------------------ \n",
      "\n"
     ]
    }
   ],
   "source": [
    "for m in models:\n",
    "    m.fit(X_train3, y_train3)\n",
    "    y_pred3 = m.predict(X_test3)\n",
    " \n",
    "\n",
    "    print(f'model: {str(m)}')\n",
    "    print(f'MAPE: {np.mean(np.abs((y_test3 - y_pred3) / y_test3)) * 100}')\n",
    "    print('-'*30, '\\n')"
   ]
  },
  {
   "cell_type": "code",
   "execution_count": 207,
   "id": "8516ef5c",
   "metadata": {},
   "outputs": [
    {
     "name": "stdout",
     "output_type": "stream",
     "text": [
      "model: LinearRegression()\n",
      "MAPE: 27.584902648385214\n",
      "------------------------------ \n",
      "\n",
      "model: RandomForestRegressor()\n",
      "MAPE: 29.928257112496432\n",
      "------------------------------ \n",
      "\n",
      "model: XGBRegressor(base_score=0.5, booster='gbtree', colsample_bylevel=1,\n",
      "             colsample_bynode=1, colsample_bytree=1, enable_categorical=False,\n",
      "             gamma=0, gpu_id=-1, importance_type=None,\n",
      "             interaction_constraints='', learning_rate=0.300000012,\n",
      "             max_delta_step=0, max_depth=6, min_child_weight=1, missing=nan,\n",
      "             monotone_constraints='()', n_estimators=100, n_jobs=8,\n",
      "             num_parallel_tree=1, predictor='auto', random_state=0, reg_alpha=0,\n",
      "             reg_lambda=1, scale_pos_weight=1, subsample=1, tree_method='exact',\n",
      "             validate_parameters=1, verbosity=None)\n",
      "MAPE: 30.425695729934098\n",
      "------------------------------ \n",
      "\n"
     ]
    }
   ],
   "source": [
    "for m in models:\n",
    "    m.fit(X_train4, y_train4)\n",
    "    y_pred4 = m.predict(X_test4)\n",
    "    s=m.score(X_train4,y_train4)\n",
    "\n",
    "    print(f'model: {str(m)}')\n",
    "    print(f'MAPE: {np.mean(np.abs((y_test4 - y_pred4) / y_test4)) * 100}')\n",
    "    print('-'*30, '\\n')"
   ]
  },
  {
   "cell_type": "code",
   "execution_count": null,
   "id": "fecf112e",
   "metadata": {},
   "outputs": [],
   "source": []
  }
 ],
 "metadata": {
  "kernelspec": {
   "display_name": "Python 3 (ipykernel)",
   "language": "python",
   "name": "python3"
  },
  "language_info": {
   "codemirror_mode": {
    "name": "ipython",
    "version": 3
   },
   "file_extension": ".py",
   "mimetype": "text/x-python",
   "name": "python",
   "nbconvert_exporter": "python",
   "pygments_lexer": "ipython3",
   "version": "3.9.7"
  }
 },
 "nbformat": 4,
 "nbformat_minor": 5
}
